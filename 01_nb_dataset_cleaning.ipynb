{
 "cells": [
  {
   "cell_type": "markdown",
   "metadata": {
    "toc": true
   },
   "source": [
    "<h1>Table of Contents<span class=\"tocSkip\"></span></h1>\n",
    "<div class=\"toc\"><ul class=\"toc-item\"><li><span><a href=\"#Desde-txt-a-dataframe\" data-toc-modified-id=\"Desde-txt-a-dataframe-1\"><span class=\"toc-item-num\">1&nbsp;&nbsp;</span>Desde txt a dataframe</a></span></li><li><span><a href=\"#Idiomas-por-canción\" data-toc-modified-id=\"Idiomas-por-canción-2\"><span class=\"toc-item-num\">2&nbsp;&nbsp;</span>Idiomas por canción</a></span></li><li><span><a href=\"#Transformar-lista-de-idiomas-detectados\" data-toc-modified-id=\"Transformar-lista-de-idiomas-detectados-3\"><span class=\"toc-item-num\">3&nbsp;&nbsp;</span>Transformar lista de idiomas detectados</a></span></li><li><span><a href=\"#Idiomas-como-lista-de-strings\" data-toc-modified-id=\"Idiomas-como-lista-de-strings-4\"><span class=\"toc-item-num\">4&nbsp;&nbsp;</span>Idiomas como lista de strings</a></span></li><li><span><a href=\"#Exploración-idiomas\" data-toc-modified-id=\"Exploración-idiomas-5\"><span class=\"toc-item-num\">5&nbsp;&nbsp;</span>Exploración idiomas</a></span></li><li><span><a href=\"#Filtrar-para-un-solo-idioma\" data-toc-modified-id=\"Filtrar-para-un-solo-idioma-6\"><span class=\"toc-item-num\">6&nbsp;&nbsp;</span>Filtrar para un solo idioma</a></span><ul class=\"toc-item\"><li><span><a href=\"#Idioma-=-Inglés-(puro)\" data-toc-modified-id=\"Idioma-=-Inglés-(puro)-6.1\"><span class=\"toc-item-num\">6.1&nbsp;&nbsp;</span>Idioma = Inglés (puro)</a></span></li><li><span><a href=\"#Idioma-=-Español-(puro)\" data-toc-modified-id=\"Idioma-=-Español-(puro)-6.2\"><span class=\"toc-item-num\">6.2&nbsp;&nbsp;</span>Idioma = Español (puro)</a></span></li></ul></li><li><span><a href=\"#Dataset-final-(hasta-ahora,-solo-existen-'en'-y-'es')\" data-toc-modified-id=\"Dataset-final-(hasta-ahora,-solo-existen-'en'-y-'es')-7\"><span class=\"toc-item-num\">7&nbsp;&nbsp;</span>Dataset final (hasta ahora, solo existen 'en' y 'es')</a></span></li></ul></div>"
   ]
  },
  {
   "cell_type": "markdown",
   "metadata": {},
   "source": [
    "<p><font size=\"6\">Creación de los datasets</font></p>"
   ]
  },
  {
   "cell_type": "code",
   "execution_count": 86,
   "metadata": {},
   "outputs": [],
   "source": [
    "import re\n",
    "import os\n",
    "from os import walk\n",
    "import bs4 \n",
    "from bs4 import BeautifulSoupBV \n",
    "import time\n",
    "import csv\n",
    "from langdetect import detect\n",
    "from langdetect import detect_langs\n",
    "import numpy as np\n",
    "from sklearn.preprocessing import MultiLabelBinarizer\n",
    "import matplotlib.pyplot as plt"
   ]
  },
  {
   "cell_type": "code",
   "execution_count": 81,
   "metadata": {},
   "outputs": [],
   "source": [
    "pd.set_option('display.width', 900)\n",
    "pd.set_option('display.max_colwidth', 1)\n",
    "pd.set_option('display.max_rows', 900)\n",
    "pd.set_option('display.max_columns', None)"
   ]
  },
  {
   "cell_type": "code",
   "execution_count": null,
   "metadata": {},
   "outputs": [],
   "source": [
    "start = time.time()"
   ]
  },
  {
   "cell_type": "markdown",
   "metadata": {},
   "source": [
    "# Desde txt a dataframe"
   ]
  },
  {
   "cell_type": "markdown",
   "metadata": {},
   "source": [
    "La siguiente función analiza el directorio raíz y extrae la información desde los archivos, hacia un Dataframe.<br>\n",
    "Input: directorio con archivos txt dentro de carpetas. <br>\n",
    "Output: archivo df_darklyrics.csv (tarda 670 segundos)<br>\n",
    "<br>\n",
    "Una carpeta por banda. Un archivo TXT por disco. <br>\n",
    "Los archivos vienen en TXT pero su estructura es HTML.<br> \n",
    "La información se extrae con Beautiful Soup.<br>\n",
    "Con regex se elimina la mayor cantidad posible de texto no lírico, como saludos, agradecimientosentre otros elementos. <br>\n",
    "Para obtener los archivos se utilizó el scrapping de este repo: https://github.com/Ptolemaios-cl/Dark-Lyrics-"
   ]
  },
  {
   "cell_type": "code",
   "execution_count": null,
   "metadata": {},
   "outputs": [],
   "source": [
    "print (start)\n",
    "print ('\\nProcesando.....')\n",
    "path = './lyrics'\n",
    "regex_end = 'Thanks to .*? for sending these lyrics.|Thanks to .*? for sending track .*? lyrics.|Thanks to .*? for sending tracks .*? lyrics.|Thanks to .*? for correcting track .*? lyrics.|Thanks to .*? for correcting tracks .*? lyrics.|Bass|Guitars|Vocals|Keyboards|Drums|\\[.*?\\]| LYRICS|Submits, comments, corrections are welcomed at webmaster@darklyrics.com'\n",
    "cancion_con_todo = []\n",
    "def parsefiles(path):E \n",
    "\t\n",
    "\tfor root, dirs, files in os.walk(path):\n",
    "\t\tfiles = [f for f in files if not f[0] == '.']\n",
    "\t\tdirs[:] = [d for d in dirs if not d[0] == '.']\n",
    "\t\tfor file in files:\n",
    "\t\t\tif file.endswith(\".txt\"):\n",
    "\t\t\t\twith open(root + '/' + file) as album:\n",
    "\t\t\t\t\tfile_contents = album.read()\n",
    "\t\t\t\t\tsoup = BeautifulSoup(file_contents, 'html.parser')\n",
    "\t\t\t\t\tband_dirt = str(soup.a.string)\n",
    "\t\t\t\t\tband_name = band_dirt.replace(' LYRICS', '')\n",
    "\t\t\t\t\talbum_dirt = str(soup.h2.string)\n",
    "\t\t\t\t\talbum_name_year = album_dirt.replace('album:', '')\n",
    "\t\t\t\t\talbum_name = str(re.findall(r'\"([^\"]*)\"', album_name_year))\n",
    "\t\t\t\t\talbum_name = album_name[2:-2]\n",
    "\t\t\t\t\talbum_year = str(re.findall(r'\\(([^\"]*)\\)', album_name_year))\n",
    "\t\t\t\t\talbum_year = album_year[2:-2]\n",
    "\t\t\t\t\tlyrics_div = soup.find('div', class_='lyrics')\n",
    "\t\t\t\t\tlyrics = lyrics_div.prettify().split('<h3>')\n",
    "\t\t\t\t\tdel lyrics[0]\n",
    "\t\t\t\t\tfor lyric in lyrics:\n",
    "\t\t\t\t\t\tsong_title = lyric.split('\\n')[2]\n",
    "\t\t\t\t\t\tsong_title = song_title.strip()\n",
    "\t\t\t\t\t\tcleanr = re.compile('<.*?>')\n",
    "\t\t\t\t\t\tlyric = re.sub(cleanr, '', lyric)\n",
    "\t\t\t\t\t\tlyric = lyric.replace('\\n','')\n",
    "\t\t\t\t\t\tlyric = re.sub(regex_end, '', lyric)\n",
    "\t\t\t\t\t\tlyric = ' '.join(lyric.split())\n",
    "\t\t\t\t\t\tlyric = lyric.replace(str(band_name),' ')\n",
    "\t\t\t\t\t\tlyric = lyric.replace(str(song_title),' ')\n",
    "\t\t\t\t\t\tlyric = lyric.strip()\n",
    "\t\t\t\t\t\tcancion_con_todo.append((band_name,album_name,album_year,song_title,lyric))\n",
    "parsefiles(path)\n",
    "pd.set_option('display.max_columns', None)\n",
    "df = pd.DataFrame(cancion_con_todo)\n",
    "df.columns = ['band_name','album_name','album_year','song_title','lyric']\n",
    "print (df)\n",
    "print (df.shape)\n",
    "df.to_csv(\"./df_darklyrics.csv\")\n",
    "\n",
    "end = time.time()\n",
    "\n",
    "print('\\ntime to process: ',end - start, 'seconds')\n",
    "print (\"fin\")"
   ]
  },
  {
   "cell_type": "markdown",
   "metadata": {},
   "source": [
    "# Idiomas por canción\n",
    "<br>\n",
    "La siguiente función lee la letra de cada canción y se añade una columna 'lang' al dataframe. <br>Aproximadamente 44 minutos.  <br>"
   ]
  },
  {
   "cell_type": "code",
   "execution_count": null,
   "metadata": {},
   "outputs": [],
   "source": [
    "start = time.time()"
   ]
  },
  {
   "cell_type": "code",
   "execution_count": null,
   "metadata": {},
   "outputs": [],
   "source": [
    "lang_lyric = []\n",
    "print ('Obteniendo idiomas para cada letra............\\n\\n\\n')\n",
    "def lang_detection(x):\n",
    "\tfor lyric in x.lyric:\n",
    "\t\ttry:\n",
    "\t\t\tidioma = detect_langs(lyric)\n",
    "\t\t\tlang_lyric.append(idioma)\n",
    "\t\texcept Exception as e:\n",
    "\t\t\tidioma = 'ninguno'\n",
    "\t\t\tlang_lyric.append(idioma)\n",
    "lang_detection(df)\n",
    "df['lang'] = lang_lyric\n",
    "#df.to_pickle(\"./archivos_modelos/df_darklyrics_idiomas_prob.pkl\")\n",
    "df.to_csv(\"./from_scratch/df_darklyrics_idiomas_prob.csv\")\n",
    "\n",
    "end = time.time()\n",
    "hours, rem = divmod(end-start, 3600)\n",
    "minutes, seconds = divmod(rem, 60)\n",
    "print('\\n\\n\\n\\n\\n\\n\\nTime elapsed detecting languages for each song: \\n')\n",
    "print(\"{:0>2}:{:0>2}:{:05.2f}\".format(int(hours),int(minutes),seconds))\n",
    "print (\"fin\")"
   ]
  },
  {
   "cell_type": "markdown",
   "metadata": {},
   "source": [
    "# Transformar lista de idiomas detectados"
   ]
  },
  {
   "cell_type": "code",
   "execution_count": null,
   "metadata": {},
   "outputs": [],
   "source": [
    "df = pd.read_csv('./from_scratch/df_darklyrics_idiomas_prob.csv')"
   ]
  },
  {
   "cell_type": "code",
   "execution_count": null,
   "metadata": {},
   "outputs": [],
   "source": [
    "idiomas = []\n",
    "\n",
    "def prepara_multi_lang (df_multi_lang):\n",
    "    for list_probs in df_multi_lang['lang']:\n",
    "        idiomas.append(re.sub(r\"[(:)(\\d)(.)(\\d+)]\", \"\", str(list_probs)))\n",
    "\n",
    "prepara_multi_lang (df)"
   ]
  },
  {
   "cell_type": "code",
   "execution_count": null,
   "metadata": {},
   "outputs": [],
   "source": [
    "df['idiomas'] = idiomas"
   ]
  },
  {
   "cell_type": "code",
   "execution_count": null,
   "metadata": {},
   "outputs": [],
   "source": [
    "df.to_csv(\"./from_scratch/df_darklyrics_idiomas_prob_listaidiomas.csv\")"
   ]
  },
  {
   "cell_type": "markdown",
   "metadata": {},
   "source": [
    "# Idiomas como lista de strings"
   ]
  },
  {
   "cell_type": "code",
   "execution_count": 34,
   "metadata": {},
   "outputs": [],
   "source": [
    "df_idiomas_como_lista = pd.read_csv(\"./from_scratch/df_darklyrics_idiomas_prob_listaidiomas.csv\")"
   ]
  },
  {
   "cell_type": "code",
   "execution_count": 36,
   "metadata": {},
   "outputs": [],
   "source": [
    "df_solo_la_lista = df_idiomas_como_lista.idiomas\n",
    "df_solo_la_lista.colummns = ['idiomas']"
   ]
  },
  {
   "cell_type": "code",
   "execution_count": 37,
   "metadata": {},
   "outputs": [],
   "source": [
    "df_solo_la_lista = pd.DataFrame(df_solo_la_lista)\n",
    "df_solo_la_lista['idiomas'] = df_solo_la_lista.idiomas.apply(lambda x: x[1:-1].split(','))"
   ]
  },
  {
   "cell_type": "code",
   "execution_count": 39,
   "metadata": {},
   "outputs": [],
   "source": [
    "df_idiomas_como_lista['len_lan'] = df_idiomas_como_lista['idiomas'].astype(str).map(len)"
   ]
  },
  {
   "cell_type": "code",
   "execution_count": null,
   "metadata": {},
   "outputs": [],
   "source": [
    "sin_ninguno = df_idiomas_como_lista[df_idiomas_como_lista.idiomas != 'ninguno']"
   ]
  },
  {
   "cell_type": "code",
   "execution_count": 42,
   "metadata": {},
   "outputs": [],
   "source": [
    "sin_ninguno.loc[sin_ninguno['len_lan'] <= 4, 'un_idioma'] = 'True'\n",
    "sin_ninguno.loc[sin_ninguno['len_lan'] > 4, 'un_idioma'] = 'False'"
   ]
  },
  {
   "cell_type": "code",
   "execution_count": null,
   "metadata": {},
   "outputs": [],
   "source": [
    "columnas = [0,1]\n",
    "result = sin_ninguno.drop(sin_ninguno.columns[columnas], axis = 1)\n",
    "result = result.reset_index(drop=True)"
   ]
  },
  {
   "cell_type": "code",
   "execution_count": 53,
   "metadata": {},
   "outputs": [],
   "source": [
    "result.to_csv(\"./from_scratch/df_idiomas.csv\")"
   ]
  },
  {
   "cell_type": "markdown",
   "metadata": {},
   "source": [
    "# Exploración idiomas"
   ]
  },
  {
   "cell_type": "code",
   "execution_count": 170,
   "metadata": {},
   "outputs": [],
   "source": [
    "df_idiomas = pd.read_csv('./from_scratch/df_idiomas.csv')"
   ]
  },
  {
   "cell_type": "code",
   "execution_count": null,
   "metadata": {},
   "outputs": [],
   "source": [
    "df_nose = df_idiomas.idiomas\n",
    "delta = df_nose.value_counts()\n",
    "delta = pd.DataFrame(delta)"
   ]
  },
  {
   "cell_type": "code",
   "execution_count": 185,
   "metadata": {},
   "outputs": [
    {
     "data": {
      "image/png": "[encoded data removed]",
      "text/plain": [
       "<Figure size 432x288 with 1 Axes>"
      ]
     },
     "metadata": {
      "needs_background": "light"
     },
     "output_type": "display_data"
    }
   ],
   "source": [
    "%matplotlib inline\n",
    "frecuencia_lang = df_idiomas.idiomas.value_counts()[:10].plot(kind='barh')"
   ]
  },
  {
   "cell_type": "markdown",
   "metadata": {},
   "source": [
    "# Filtrar para un solo idioma"
   ]
  },
  {
   "cell_type": "code",
   "execution_count": 59,
   "metadata": {},
   "outputs": [],
   "source": [
    "df_idiomas = pd.read_csv('./from_scratch/df_idiomas.csv')"
   ]
  },
  {
   "cell_type": "code",
   "execution_count": null,
   "metadata": {},
   "outputs": [],
   "source": [
    "df3 = df_idiomas[df_idiomas.un_idioma == True]"
   ]
  },
  {
   "cell_type": "markdown",
   "metadata": {},
   "source": [
    "## Idioma = Inglés (puro)"
   ]
  },
  {
   "cell_type": "code",
   "execution_count": 66,
   "metadata": {},
   "outputs": [],
   "source": [
    "df4 = df3[df3.idiomas == '[en]']\n",
    "df4.to_csv(\"./from_scratch/001_df_ingles_puro.csv\")"
   ]
  },
  {
   "cell_type": "markdown",
   "metadata": {},
   "source": [
    "## Idioma = Español (puro)"
   ]
  },
  {
   "cell_type": "code",
   "execution_count": 67,
   "metadata": {},
   "outputs": [],
   "source": [
    "df5 = df3[df3.idiomas == '[es]']\n",
    "df5.to_csv(\"./from_scratch/002_df_espanol_puro.csv\")"
   ]
  },
  {
   "cell_type": "markdown",
   "metadata": {},
   "source": [
    "# Dataset final (hasta ahora, solo existen 'en' y 'es')"
   ]
  },
  {
   "cell_type": "code",
   "execution_count": null,
   "metadata": {},
   "outputs": [],
   "source": [
    "df1 = pd.read_csv('./from_scratch/002_df_ingles_puro.csv')"
   ]
  }
 ],
 "metadata": {
  "kernelspec": {
   "display_name": "Python 3",
   "language": "python",
   "name": "python3"
  },
  "language_info": {
   "codemirror_mode": {
    "name": "ipython",
    "version": 3
   },
   "file_extension": ".py",
   "mimetype": "text/x-python",
   "name": "python",
   "nbconvert_exporter": "python",
   "pygments_lexer": "ipython3",
   "version": "3.7.2"
  },
  "toc": {
   "base_numbering": 1,
   "nav_menu": {},
   "number_sections": true,
   "sideBar": true,
   "skip_h1_title": false,
   "title_cell": "Table of Contents",
   "title_sidebar": "Contents",
   "toc_cell": true,
   "toc_position": {},
   "toc_section_display": true,
   "toc_window_display": true
  }
 },
 "nbformat": 4,
 "nbformat_minor": 2
}
