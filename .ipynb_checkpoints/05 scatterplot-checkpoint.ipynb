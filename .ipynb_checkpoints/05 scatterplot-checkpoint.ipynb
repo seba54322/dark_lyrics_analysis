{
 "cells": [
  {
   "cell_type": "markdown",
   "metadata": {
    "toc": true
   },
   "source": [
    "<h1>Table of Contents<span class=\"tocSkip\"></span></h1>\n",
    "<div class=\"toc\"><ul class=\"toc-item\"><li><span><a href=\"#Abrir-el-archivo\" data-toc-modified-id=\"Abrir-el-archivo-1\"><span class=\"toc-item-num\">1&nbsp;&nbsp;</span>Abrir el archivo</a></span></li><li><span><a href=\"#Identificar-número-de-canciones-de-Black-y-de-Power\" data-toc-modified-id=\"Identificar-número-de-canciones-de-Black-y-de-Power-2\"><span class=\"toc-item-num\">2&nbsp;&nbsp;</span>Identificar número de canciones de Black y de Power</a></span></li><li><span><a href=\"#Abrir-cada-letra-en-una-lista-de-tokens,-usando-Spacy\" data-toc-modified-id=\"Abrir-cada-letra-en-una-lista-de-tokens,-usando-Spacy-3\"><span class=\"toc-item-num\">3&nbsp;&nbsp;</span>Abrir cada letra en una lista de tokens, usando Spacy</a></span></li><li><span><a href=\"#Construir-corpus\" data-toc-modified-id=\"Construir-corpus-4\"><span class=\"toc-item-num\">4&nbsp;&nbsp;</span>Construir corpus</a></span></li><li><span><a href=\"#Análisis-de-frecuencia-de-términos\" data-toc-modified-id=\"Análisis-de-frecuencia-de-términos-5\"><span class=\"toc-item-num\">5&nbsp;&nbsp;</span>Análisis de frecuencia de términos</a></span></li><li><span><a href=\"#Visualización\" data-toc-modified-id=\"Visualización-6\"><span class=\"toc-item-num\">6&nbsp;&nbsp;</span>Visualización</a></span></li></ul></div>"
   ]
  },
  {
   "cell_type": "markdown",
   "metadata": {},
   "source": [
    "# Abrir el archivo"
   ]
  },
  {
   "cell_type": "code",
   "execution_count": 1,
   "metadata": {},
   "outputs": [],
   "source": [
    "import pandas as pd\n",
    "import numpy as np\n",
    "import en_core_web_sm\n",
    "nlp = en_core_web_sm.load()\n",
    "\n",
    "%matplotlib inline\n",
    "import scattertext as st\n",
    "import time\n",
    "from scipy.stats import rankdata, hmean, norm\n",
    "from pprint import pprint\n",
    "from IPython.display import IFrame\n",
    "from IPython.core.display import display, HTML\n",
    "from scattertext import CorpusFromPandas, produce_scattertext_explorer\n",
    "import spacy"
   ]
  },
  {
   "cell_type": "code",
   "execution_count": 2,
   "metadata": {},
   "outputs": [
    {
     "ename": "FileNotFoundError",
     "evalue": "[Errno 2] No such file or directory: './from_scratch/df_en_genre_country_24964lyrics.csv'",
     "output_type": "error",
     "traceback": [
      "\u001b[0;31m---------------------------------------------------------------------------\u001b[0m",
      "\u001b[0;31mFileNotFoundError\u001b[0m                         Traceback (most recent call last)",
      "\u001b[0;32m<ipython-input-2-99ad617b81eb>\u001b[0m in \u001b[0;36m<module>\u001b[0;34m\u001b[0m\n\u001b[0;32m----> 1\u001b[0;31m \u001b[0mdf_en\u001b[0m \u001b[0;34m=\u001b[0m \u001b[0mpd\u001b[0m\u001b[0;34m.\u001b[0m\u001b[0mread_csv\u001b[0m\u001b[0;34m(\u001b[0m\u001b[0;34m'./from_scratch/df_en_genre_country_24964lyrics.csv'\u001b[0m\u001b[0;34m)\u001b[0m\u001b[0;34m\u001b[0m\u001b[0;34m\u001b[0m\u001b[0m\n\u001b[0m\u001b[1;32m      2\u001b[0m \u001b[0mdf_en\u001b[0m \u001b[0;34m=\u001b[0m \u001b[0mdf_en\u001b[0m\u001b[0;34m.\u001b[0m\u001b[0mdrop\u001b[0m\u001b[0;34m(\u001b[0m\u001b[0;34m[\u001b[0m\u001b[0;34m'Unnamed: 0'\u001b[0m\u001b[0;34m,\u001b[0m \u001b[0;34m'rand'\u001b[0m\u001b[0;34m,\u001b[0m \u001b[0;34m'Unnamed: 0.1'\u001b[0m\u001b[0;34m,\u001b[0m \u001b[0;34m'Unnamed: 0.1.1'\u001b[0m\u001b[0;34m,\u001b[0m \u001b[0;34m'lang'\u001b[0m\u001b[0;34m,\u001b[0m \u001b[0;34m'len_lan'\u001b[0m\u001b[0;34m,\u001b[0m \u001b[0;34m'un_idioma'\u001b[0m\u001b[0;34m]\u001b[0m\u001b[0;34m,\u001b[0m \u001b[0maxis\u001b[0m\u001b[0;34m=\u001b[0m\u001b[0;36m1\u001b[0m\u001b[0;34m)\u001b[0m\u001b[0;34m\u001b[0m\u001b[0;34m\u001b[0m\u001b[0m\n\u001b[1;32m      3\u001b[0m \u001b[0mprint\u001b[0m \u001b[0;34m(\u001b[0m\u001b[0mdf_en\u001b[0m\u001b[0;34m.\u001b[0m\u001b[0mshape\u001b[0m\u001b[0;34m)\u001b[0m\u001b[0;34m\u001b[0m\u001b[0;34m\u001b[0m\u001b[0m\n",
      "\u001b[0;32m/Library/Frameworks/Python.framework/Versions/3.7/lib/python3.7/site-packages/pandas/io/parsers.py\u001b[0m in \u001b[0;36mread_csv\u001b[0;34m(filepath_or_buffer, sep, delimiter, header, names, index_col, usecols, squeeze, prefix, mangle_dupe_cols, dtype, engine, converters, true_values, false_values, skipinitialspace, skiprows, skipfooter, nrows, na_values, keep_default_na, na_filter, verbose, skip_blank_lines, parse_dates, infer_datetime_format, keep_date_col, date_parser, dayfirst, cache_dates, iterator, chunksize, compression, thousands, decimal, lineterminator, quotechar, quoting, doublequote, escapechar, comment, encoding, dialect, error_bad_lines, warn_bad_lines, delim_whitespace, low_memory, memory_map, float_precision)\u001b[0m\n\u001b[1;32m    684\u001b[0m     )\n\u001b[1;32m    685\u001b[0m \u001b[0;34m\u001b[0m\u001b[0m\n\u001b[0;32m--> 686\u001b[0;31m     \u001b[0;32mreturn\u001b[0m \u001b[0m_read\u001b[0m\u001b[0;34m(\u001b[0m\u001b[0mfilepath_or_buffer\u001b[0m\u001b[0;34m,\u001b[0m \u001b[0mkwds\u001b[0m\u001b[0;34m)\u001b[0m\u001b[0;34m\u001b[0m\u001b[0;34m\u001b[0m\u001b[0m\n\u001b[0m\u001b[1;32m    687\u001b[0m \u001b[0;34m\u001b[0m\u001b[0m\n\u001b[1;32m    688\u001b[0m \u001b[0;34m\u001b[0m\u001b[0m\n",
      "\u001b[0;32m/Library/Frameworks/Python.framework/Versions/3.7/lib/python3.7/site-packages/pandas/io/parsers.py\u001b[0m in \u001b[0;36m_read\u001b[0;34m(filepath_or_buffer, kwds)\u001b[0m\n\u001b[1;32m    450\u001b[0m \u001b[0;34m\u001b[0m\u001b[0m\n\u001b[1;32m    451\u001b[0m     \u001b[0;31m# Create the parser.\u001b[0m\u001b[0;34m\u001b[0m\u001b[0;34m\u001b[0m\u001b[0;34m\u001b[0m\u001b[0m\n\u001b[0;32m--> 452\u001b[0;31m     \u001b[0mparser\u001b[0m \u001b[0;34m=\u001b[0m \u001b[0mTextFileReader\u001b[0m\u001b[0;34m(\u001b[0m\u001b[0mfp_or_buf\u001b[0m\u001b[0;34m,\u001b[0m \u001b[0;34m**\u001b[0m\u001b[0mkwds\u001b[0m\u001b[0;34m)\u001b[0m\u001b[0;34m\u001b[0m\u001b[0;34m\u001b[0m\u001b[0m\n\u001b[0m\u001b[1;32m    453\u001b[0m \u001b[0;34m\u001b[0m\u001b[0m\n\u001b[1;32m    454\u001b[0m     \u001b[0;32mif\u001b[0m \u001b[0mchunksize\u001b[0m \u001b[0;32mor\u001b[0m \u001b[0miterator\u001b[0m\u001b[0;34m:\u001b[0m\u001b[0;34m\u001b[0m\u001b[0;34m\u001b[0m\u001b[0m\n",
      "\u001b[0;32m/Library/Frameworks/Python.framework/Versions/3.7/lib/python3.7/site-packages/pandas/io/parsers.py\u001b[0m in \u001b[0;36m__init__\u001b[0;34m(self, f, engine, **kwds)\u001b[0m\n\u001b[1;32m    934\u001b[0m             \u001b[0mself\u001b[0m\u001b[0;34m.\u001b[0m\u001b[0moptions\u001b[0m\u001b[0;34m[\u001b[0m\u001b[0;34m\"has_index_names\"\u001b[0m\u001b[0;34m]\u001b[0m \u001b[0;34m=\u001b[0m \u001b[0mkwds\u001b[0m\u001b[0;34m[\u001b[0m\u001b[0;34m\"has_index_names\"\u001b[0m\u001b[0;34m]\u001b[0m\u001b[0;34m\u001b[0m\u001b[0;34m\u001b[0m\u001b[0m\n\u001b[1;32m    935\u001b[0m \u001b[0;34m\u001b[0m\u001b[0m\n\u001b[0;32m--> 936\u001b[0;31m         \u001b[0mself\u001b[0m\u001b[0;34m.\u001b[0m\u001b[0m_make_engine\u001b[0m\u001b[0;34m(\u001b[0m\u001b[0mself\u001b[0m\u001b[0;34m.\u001b[0m\u001b[0mengine\u001b[0m\u001b[0;34m)\u001b[0m\u001b[0;34m\u001b[0m\u001b[0;34m\u001b[0m\u001b[0m\n\u001b[0m\u001b[1;32m    937\u001b[0m \u001b[0;34m\u001b[0m\u001b[0m\n\u001b[1;32m    938\u001b[0m     \u001b[0;32mdef\u001b[0m \u001b[0mclose\u001b[0m\u001b[0;34m(\u001b[0m\u001b[0mself\u001b[0m\u001b[0;34m)\u001b[0m\u001b[0;34m:\u001b[0m\u001b[0;34m\u001b[0m\u001b[0;34m\u001b[0m\u001b[0m\n",
      "\u001b[0;32m/Library/Frameworks/Python.framework/Versions/3.7/lib/python3.7/site-packages/pandas/io/parsers.py\u001b[0m in \u001b[0;36m_make_engine\u001b[0;34m(self, engine)\u001b[0m\n\u001b[1;32m   1166\u001b[0m     \u001b[0;32mdef\u001b[0m \u001b[0m_make_engine\u001b[0m\u001b[0;34m(\u001b[0m\u001b[0mself\u001b[0m\u001b[0;34m,\u001b[0m \u001b[0mengine\u001b[0m\u001b[0;34m=\u001b[0m\u001b[0;34m\"c\"\u001b[0m\u001b[0;34m)\u001b[0m\u001b[0;34m:\u001b[0m\u001b[0;34m\u001b[0m\u001b[0;34m\u001b[0m\u001b[0m\n\u001b[1;32m   1167\u001b[0m         \u001b[0;32mif\u001b[0m \u001b[0mengine\u001b[0m \u001b[0;34m==\u001b[0m \u001b[0;34m\"c\"\u001b[0m\u001b[0;34m:\u001b[0m\u001b[0;34m\u001b[0m\u001b[0;34m\u001b[0m\u001b[0m\n\u001b[0;32m-> 1168\u001b[0;31m             \u001b[0mself\u001b[0m\u001b[0;34m.\u001b[0m\u001b[0m_engine\u001b[0m \u001b[0;34m=\u001b[0m \u001b[0mCParserWrapper\u001b[0m\u001b[0;34m(\u001b[0m\u001b[0mself\u001b[0m\u001b[0;34m.\u001b[0m\u001b[0mf\u001b[0m\u001b[0;34m,\u001b[0m \u001b[0;34m**\u001b[0m\u001b[0mself\u001b[0m\u001b[0;34m.\u001b[0m\u001b[0moptions\u001b[0m\u001b[0;34m)\u001b[0m\u001b[0;34m\u001b[0m\u001b[0;34m\u001b[0m\u001b[0m\n\u001b[0m\u001b[1;32m   1169\u001b[0m         \u001b[0;32melse\u001b[0m\u001b[0;34m:\u001b[0m\u001b[0;34m\u001b[0m\u001b[0;34m\u001b[0m\u001b[0m\n\u001b[1;32m   1170\u001b[0m             \u001b[0;32mif\u001b[0m \u001b[0mengine\u001b[0m \u001b[0;34m==\u001b[0m \u001b[0;34m\"python\"\u001b[0m\u001b[0;34m:\u001b[0m\u001b[0;34m\u001b[0m\u001b[0;34m\u001b[0m\u001b[0m\n",
      "\u001b[0;32m/Library/Frameworks/Python.framework/Versions/3.7/lib/python3.7/site-packages/pandas/io/parsers.py\u001b[0m in \u001b[0;36m__init__\u001b[0;34m(self, src, **kwds)\u001b[0m\n\u001b[1;32m   1996\u001b[0m         \u001b[0mkwds\u001b[0m\u001b[0;34m[\u001b[0m\u001b[0;34m\"usecols\"\u001b[0m\u001b[0;34m]\u001b[0m \u001b[0;34m=\u001b[0m \u001b[0mself\u001b[0m\u001b[0;34m.\u001b[0m\u001b[0musecols\u001b[0m\u001b[0;34m\u001b[0m\u001b[0;34m\u001b[0m\u001b[0m\n\u001b[1;32m   1997\u001b[0m \u001b[0;34m\u001b[0m\u001b[0m\n\u001b[0;32m-> 1998\u001b[0;31m         \u001b[0mself\u001b[0m\u001b[0;34m.\u001b[0m\u001b[0m_reader\u001b[0m \u001b[0;34m=\u001b[0m \u001b[0mparsers\u001b[0m\u001b[0;34m.\u001b[0m\u001b[0mTextReader\u001b[0m\u001b[0;34m(\u001b[0m\u001b[0msrc\u001b[0m\u001b[0;34m,\u001b[0m \u001b[0;34m**\u001b[0m\u001b[0mkwds\u001b[0m\u001b[0;34m)\u001b[0m\u001b[0;34m\u001b[0m\u001b[0;34m\u001b[0m\u001b[0m\n\u001b[0m\u001b[1;32m   1999\u001b[0m         \u001b[0mself\u001b[0m\u001b[0;34m.\u001b[0m\u001b[0munnamed_cols\u001b[0m \u001b[0;34m=\u001b[0m \u001b[0mself\u001b[0m\u001b[0;34m.\u001b[0m\u001b[0m_reader\u001b[0m\u001b[0;34m.\u001b[0m\u001b[0munnamed_cols\u001b[0m\u001b[0;34m\u001b[0m\u001b[0;34m\u001b[0m\u001b[0m\n\u001b[1;32m   2000\u001b[0m \u001b[0;34m\u001b[0m\u001b[0m\n",
      "\u001b[0;32mpandas/_libs/parsers.pyx\u001b[0m in \u001b[0;36mpandas._libs.parsers.TextReader.__cinit__\u001b[0;34m()\u001b[0m\n",
      "\u001b[0;32mpandas/_libs/parsers.pyx\u001b[0m in \u001b[0;36mpandas._libs.parsers.TextReader._setup_parser_source\u001b[0;34m()\u001b[0m\n",
      "\u001b[0;31mFileNotFoundError\u001b[0m: [Errno 2] No such file or directory: './from_scratch/df_en_genre_country_24964lyrics.csv'"
     ]
    }
   ],
   "source": [
    "df_en = pd.read_csv('./from_scratch/df_en_genre_country_24964lyrics.csv')"
   ]
  },
  {
   "cell_type": "markdown",
   "metadata": {},
   "source": [
    "# Identificar número de canciones de Black y de Power"
   ]
  },
  {
   "cell_type": "code",
   "execution_count": null,
   "metadata": {},
   "outputs": [],
   "source": [
    "print (df_en['genre'].value_counts())"
   ]
  },
  {
   "cell_type": "markdown",
   "metadata": {},
   "source": [
    "Power Metal:    13.568 <br>\n",
    "Black Metal:    11.396"
   ]
  },
  {
   "cell_type": "markdown",
   "metadata": {},
   "source": [
    "Asegurar que cada letra sea str."
   ]
  },
  {
   "cell_type": "code",
   "execution_count": null,
   "metadata": {},
   "outputs": [],
   "source": [
    "#df_en[\"lyric\"]= df_en[\"lyric\"].astype(str)\n",
    "#df_en[\"lyric_len\"]= df_en[\"lyric\"].str.len()\n",
    "#df_en = (df_en.sort_values(['genre', 'band_name','album_name'], ascending=[True, True, True]))"
   ]
  },
  {
   "cell_type": "markdown",
   "metadata": {},
   "source": [
    "Preparar power y black como datasets separados."
   ]
  },
  {
   "cell_type": "code",
   "execution_count": null,
   "metadata": {},
   "outputs": [],
   "source": [
    "power = df_en.loc[df_en['genre'] == 'Power Metal']\n",
    "black = df_en.loc[df_en['genre'] == 'Black Metal']\n",
    "\n",
    "power_black = df_en"
   ]
  },
  {
   "cell_type": "code",
   "execution_count": null,
   "metadata": {},
   "outputs": [],
   "source": [
    "# power_black.groupby('genre').apply(lambda x: x.lyric.apply(lambda x: len(x.split())).sum())"
   ]
  },
  {
   "cell_type": "markdown",
   "metadata": {},
   "source": [
    "# Abrir cada letra en una lista de tokens, usando Spacy"
   ]
  },
  {
   "cell_type": "code",
   "execution_count": null,
   "metadata": {},
   "outputs": [],
   "source": [
    "power_black['parsed'] = power_black.lyric.apply(nlp) \n",
    "power_black"
   ]
  },
  {
   "cell_type": "markdown",
   "metadata": {},
   "source": [
    "# Construir corpus"
   ]
  },
  {
   "cell_type": "code",
   "execution_count": null,
   "metadata": {},
   "outputs": [],
   "source": [
    "corpus = st.CorpusFromPandas(power_black, \n",
    "                             category_col='genre', \n",
    "                             text_col='lyric',\n",
    "                             nlp=nlp).build()"
   ]
  },
  {
   "cell_type": "code",
   "execution_count": null,
   "metadata": {},
   "outputs": [],
   "source": [
    "# corpus = st.CorpusFromParsedDocuments(power_black, category_col='genre', parsed_col='parsed').build()"
   ]
  },
  {
   "cell_type": "markdown",
   "metadata": {},
   "source": [
    "# Análisis de frecuencia de términos"
   ]
  },
  {
   "cell_type": "markdown",
   "metadata": {},
   "source": [
    "Los términos frecuentes para cada grupo (Power Metal y Black Metal). \n",
    "Un análisis de frecuencia que incluye la media harmónica. "
   ]
  },
  {
   "cell_type": "code",
   "execution_count": null,
   "metadata": {},
   "outputs": [],
   "source": [
    "term_freq_df = corpus.get_term_freq_df()\n",
    "#print (term_freq_df)\n",
    "term_freq_df['black_precision'] = term_freq_df['Black Metal freq'] * 1./(term_freq_df['Black Metal freq'] + term_freq_df['Power Metal freq'])\n",
    "#print (term_freq_df['black_precision'])\n",
    "term_freq_df['black_freq_pct'] = term_freq_df['Black Metal freq'] * 1./term_freq_df['Black Metal freq'].sum()\n",
    "#print (term_freq_df['black_freq_pct'])\n",
    "term_freq_df['black_hmean'] = term_freq_df.apply(lambda x: (hmean([x['black_precision'], x['black_freq_pct']])\n",
    "                                                                   if x['black_precision'] > 0 and x['black_freq_pct'] > 0 \n",
    "                                                                   else 0), axis=1)\n",
    "\n",
    "term_freq_df.sort_values(by='black_hmean', ascending=False).iloc[:10]"
   ]
  },
  {
   "cell_type": "code",
   "execution_count": null,
   "metadata": {},
   "outputs": [],
   "source": [
    "def normcdf(x):\n",
    "    return norm.cdf(x, x.mean(), x.std())\n",
    "term_freq_df['black_precision_normcdf'] = normcdf(term_freq_df['black_precision'])\n",
    "term_freq_df['black_freq_pct_normcdf'] = normcdf(term_freq_df['black_freq_pct'])\n",
    "term_freq_df['black_scaled_f_score'] = hmean([term_freq_df['black_precision_normcdf'], term_freq_df['black_freq_pct_normcdf']])\n",
    "term_freq_df.sort_values(by='black_scaled_f_score', ascending=False).iloc[:100]"
   ]
  },
  {
   "cell_type": "code",
   "execution_count": null,
   "metadata": {},
   "outputs": [],
   "source": [
    "term_freq_df['black_corner_score'] = corpus.get_corner_scores('Black Metal')\n",
    "term_freq_df.sort_values(by='black_corner_score', ascending=False).iloc[:100]"
   ]
  },
  {
   "cell_type": "code",
   "execution_count": null,
   "metadata": {},
   "outputs": [],
   "source": [
    "term_freq_df = corpus.get_term_freq_df()\n",
    "term_freq_df['Power Metal Score'] = corpus.get_scaled_f_scores('Power Metal')\n",
    "term_freq_df['Black Metal Score'] = corpus.get_scaled_f_scores('Black Metal')\n",
    "print(\"Top 10 Black Metal terms\")\n",
    "pprint(list(term_freq_df.sort_values(by='Black Metal Score', ascending=False).index[:100]))\n",
    "print(\"Top 10 Power Metal terms\")\n",
    "pprint(list(term_freq_df.sort_values(by='Power Metal Score', ascending=False).index[:100]))"
   ]
  },
  {
   "cell_type": "markdown",
   "metadata": {},
   "source": [
    "# Visualización"
   ]
  },
  {
   "cell_type": "markdown",
   "metadata": {},
   "source": [
    "<br><br><br>\n",
    "- Una palabra usada 10 veces en el Power Metal, estará en la posición 10 en el eje x<br>\n",
    "- Esto no es muy útil. Todo, excepto los términos más frecuentes, quedan apiñados en la esquina inferior-izquierda.<br>\n",
    "- Los puntajes de corner-distance son mayormente stopwords<br>\n",
    "- Por defecto, el color de las palabras representa el puntaje F escalado (Scaled F-Score)<br><br><br>"
   ]
  },
  {
   "cell_type": "code",
   "execution_count": null,
   "metadata": {},
   "outputs": [],
   "source": [
    "#import en_core_web_sm\n",
    "#nlp = en_core_web_sm.load()"
   ]
  },
  {
   "cell_type": "code",
   "execution_count": null,
   "metadata": {},
   "outputs": [],
   "source": [
    "#nlp = st.WhitespaceNLP.whitespace_nlp"
   ]
  },
  {
   "cell_type": "code",
   "execution_count": null,
   "metadata": {},
   "outputs": [],
   "source": []
  },
  {
   "cell_type": "code",
   "execution_count": null,
   "metadata": {},
   "outputs": [],
   "source": [
    "#corpus = st.CorpusFromPandas(power_black, \n",
    "#                             category_col='genre', \n",
    "#                             text_col='lyric',\n",
    "#                             nlp=nlp).build()"
   ]
  },
  {
   "cell_type": "code",
   "execution_count": null,
   "metadata": {},
   "outputs": [],
   "source": []
  },
  {
   "cell_type": "code",
   "execution_count": null,
   "metadata": {},
   "outputs": [],
   "source": [
    "#corpus = st.CorpusFromParsedDocuments(power_black, category_col='genre', parsed_col='parsed').build()"
   ]
  },
  {
   "cell_type": "markdown",
   "metadata": {},
   "source": [
    "Este es el original"
   ]
  },
  {
   "cell_type": "code",
   "execution_count": null,
   "metadata": {
    "scrolled": false
   },
   "outputs": [],
   "source": [
    "html = produce_scattertext_explorer(corpus,\n",
    "                                    category='Black Metal',\n",
    "                                    category_name='Black Metal',\n",
    "                                    not_category_name='Power Metal',\n",
    "                                    width_in_pixels=800,\n",
    "                                    minimum_term_frequency=5,\n",
    "                                    transform=st.Scalers.scale,\n",
    "                                    metadata=power_black['band_name'])\n",
    "file_name = './new_power_black_v4_ugly.html'\n",
    "open(file_name, 'wb').write(html.encode('utf-8'))"
   ]
  },
  {
   "cell_type": "markdown",
   "metadata": {},
   "source": [
    "<br><br><br>\n",
    "Rankear términos por sus percentiles de frecuencia en vez de la frecuencia bruta. <br>\n",
    "Un término en la mitad del eje x será mencionado en el Power Metal con una frecuencia media. <br>\n",
    "Esto distribuye los términos de manera más elegante en el espacio. <br>\n",
    "Haciendo solamente eso, los términos con las mismas frecuencias en las 2 clases, quedarían solapados entre sí. <br>\n",
    "El punto que se vería sería el primero y los demás quedarían \"detrás\" de éste impidiendo hacer mouseover.<br>\n",
    "La solución preferida es llevarlos a orden alfabético entre términos de igual frecuencia<br><br><br>"
   ]
  },
  {
   "cell_type": "code",
   "execution_count": null,
   "metadata": {},
   "outputs": [],
   "source": [
    "html = produce_scattertext_explorer(corpus,\n",
    "                                    category='Black Metal',\n",
    "                                    category_name='Black Metal',\n",
    "                                    not_category_name='Power Metal',\n",
    "                                    width_in_pixels=800,\n",
    "                                    minimum_term_frequency=5,\n",
    "                                    metadata=power_black['band_name'],\n",
    "                                    term_significance = st.LogOddsRatioUninformativeDirichletPrior())\n",
    "file_name = './new_power_black_v4_pretty.html'\n",
    "open(file_name, 'wb').write(html.encode('utf-8'))\n",
    "#IFrame(src=file_name, width = 1152, height=800)"
   ]
  },
  {
   "cell_type": "markdown",
   "metadata": {},
   "source": [
    "<br><br><br>Visualización de los coeficientes de regresión L2-penalizados v/s log-frecuencia de términos. <br><br><br>\n"
   ]
  },
  {
   "cell_type": "code",
   "execution_count": null,
   "metadata": {},
   "outputs": [],
   "source": [
    "def scale(ar): \n",
    "    return (ar - ar.min()) / (ar.max() - ar.min())\n",
    "\n",
    "def zero_centered_scale(ar):\n",
    "    scores = np.zeros(len(ar))\n",
    "    scores[ar > 0] = scale(ar[ar > 0])\n",
    "    scores[ar < 0] = -scale(-ar[ar < 0])\n",
    "    return (scores + 1) / 2.\n",
    "\n",
    "frequencies_scaled = scale(np.log(term_freq_df.sum(axis=1).values))"
   ]
  },
  {
   "cell_type": "code",
   "execution_count": null,
   "metadata": {},
   "outputs": [],
   "source": [
    "from sklearn.linear_model import LogisticRegression\n",
    "scores = corpus.get_logreg_coefs('Black Metal',\n",
    "                                 LogisticRegression(penalty='l2', C=10, max_iter=10000, n_jobs=-1))\n",
    "scores_scaled = zero_centered_scale(scores)\n",
    "\n",
    "html = produce_scattertext_explorer(corpus,\n",
    "                                    category='Black Metal',\n",
    "                                    category_name='Black Metal',\n",
    "                                    not_category_name='Power Metal',\n",
    "                                    minimum_term_frequency=5,\n",
    "                                    width_in_pixels=800,\n",
    "                                    x_coords=frequencies_scaled,\n",
    "                                    y_coords=scores_scaled,\n",
    "                                    scores=scores,\n",
    "                                    sort_by_dist=False,\n",
    "                                    metadata=power_black['band_name'],\n",
    "                                    x_label='Log frequency',\n",
    "                                    y_label='L2-Penalized Log Reg Coef')\n",
    "file_name = './new_L2vsLog_pretty_v2.html'\n",
    "open(file_name, 'wb').write(html.encode('utf-8'))\n",
    "#IFrame(src=file_name, width = 1200, height=800)"
   ]
  },
  {
   "cell_type": "markdown",
   "metadata": {},
   "source": [
    "<br><br><br>Comparación del método anterior con el método de F-escalado.<br><br><br>"
   ]
  },
  {
   "cell_type": "code",
   "execution_count": null,
   "metadata": {},
   "outputs": [],
   "source": [
    "html = produce_scattertext_explorer(corpus,\n",
    "                                    category='Black Metal',\n",
    "                                    category_name='Black Metal',\n",
    "                                    not_category_name='Power Metal',\n",
    "                                    minimum_term_frequency=5,\n",
    "                                    width_in_pixels=800,\n",
    "                                    x_coords=frequencies_scaled,\n",
    "                                    y_coords=corpus.get_scaled_f_scores('Black Metal', beta=0.5),\n",
    "                                    scores=corpus.get_scaled_f_scores('Black Metal', beta=0.5),\n",
    "                                    sort_by_dist=False,\n",
    "                                    metadata=power_black['band_name'],\n",
    "                                    x_label='Log Frequency',\n",
    "                                    y_label='Scaled F-Score')\n",
    "file_name = './new_power_black_SFSvsLog_pretty_v2.html'\n",
    "open(file_name, 'wb').write(html.encode('utf-8'))\n",
    "#IFrame(src=file_name, width = 1200, height=800)"
   ]
  },
  {
   "cell_type": "markdown",
   "metadata": {},
   "source": [
    "<br><br><br>\n",
    "Una forma de visualizar es usando la razón de log-probabilidad penalizada (penalized log-odds-ratio).\n",
    "<br>\n",
    "Burt L. Monroe, Michael P. Colaresi, and Kevin M. Quinn. 2008. Fightin’ words: Lexical feature selection and evaluation for identifying the content of political conflict. Political Analysis.<br><br><br>"
   ]
  },
  {
   "cell_type": "code",
   "execution_count": null,
   "metadata": {},
   "outputs": [],
   "source": [
    "freq_df = corpus.get_term_freq_df().rename(columns={'Black Metal freq': 'y_bl', 'Power Metal freq': 'y_pw'})\n",
    "a_w = 0.01\n",
    "y_i, y_j = freq_df['y_bl'].values, freq_df['y_pw'].values"
   ]
  },
  {
   "cell_type": "code",
   "execution_count": null,
   "metadata": {},
   "outputs": [],
   "source": [
    "n_i, n_j = y_i.sum(), y_j.sum()\n",
    "a_0 = len(freq_df) * a_w\n",
    "delta_i_j = (  np.log((y_i + a_w) / (n_i + a_0 - y_i - a_w))\n",
    "                 - np.log((y_j + a_w) / (n_j + a_0 - y_j - a_w)))\n",
    "var_delta_i_j = ( 1./(y_i + a_w) + 1./(y_i + a_0 - y_i - a_w)\n",
    "                    + 1./(y_j + a_w) + 1./(n_j + a_0 - n_j - a_w))\n",
    "zeta_i_j = delta_i_j/np.sqrt(var_delta_i_j)\n",
    "max_abs_zeta = max(zeta_i_j.max(), -zeta_i_j.min())\n",
    "zeta_scaled_for_charting = ((((zeta_i_j > 0).astype(float) * (zeta_i_j/max_abs_zeta))*0.5 + 0.5)\n",
    "                            + ((zeta_i_j < 0).astype(float) * (zeta_i_j/max_abs_zeta) * 0.5))"
   ]
  },
  {
   "cell_type": "code",
   "execution_count": null,
   "metadata": {},
   "outputs": [],
   "source": [
    "html = produce_scattertext_explorer(corpus,\n",
    "                                    category='Black Metal',\n",
    "                                    category_name='Black Metal',\n",
    "                                    not_category_name='Power Metal',\n",
    "                                    minimum_term_frequency=5,\n",
    "                                    width_in_pixels=800,\n",
    "                                    x_coords=frequencies_scaled,\n",
    "                                    y_coords=zeta_scaled_for_charting,\n",
    "                                    scores=zeta_i_j,\n",
    "                                    sort_by_dist=False,\n",
    "                                    metadata=power_black['band_name'],\n",
    "                                    x_label='Log Frequency',\n",
    "                                    y_label='Log Odds Ratio w/ Uninformative Prior (alpha_w=0.01)')\n",
    "file_name = './new_power_black_LOPriorvsLog_pretty_v2.html'\n",
    "open(file_name, 'wb').write(html.encode('utf-8'))\n",
    "#IFrame(src=file_name, width = 1200, height=800)"
   ]
  },
  {
   "cell_type": "markdown",
   "metadata": {},
   "source": [
    "<br><br><br>El último de la ronda es con los puntajes \"corner scores\"<br><br><br>"
   ]
  },
  {
   "cell_type": "code",
   "execution_count": null,
   "metadata": {},
   "outputs": [],
   "source": [
    "corner_scores = corpus.get_corner_scores('Black Metal')\n",
    "html = produce_scattertext_explorer(corpus,\n",
    "                                    category='Black Metal',\n",
    "                                    category_name='Black Metal',\n",
    "                                    not_category_name='Power Metal',\n",
    "                                    minimum_term_frequency=5,\n",
    "                                    width_in_pixels=800,\n",
    "                                    x_coords=frequencies_scaled,\n",
    "                                    y_coords=corner_scores,\n",
    "                                    scores=corner_scores,\n",
    "                                    sort_by_dist=False,\n",
    "                                    metadata=power_black['band_name'],\n",
    "                                    x_label='Log Frequency',\n",
    "                                    y_label='Corner Scores')\n",
    "file_name = './new_power_black_CornervsLog_pretty_v1.html'\n",
    "open(file_name, 'wb').write(html.encode('utf-8'))\n",
    "#IFrame(src=file_name, width = 1200, height=800)"
   ]
  },
  {
   "cell_type": "code",
   "execution_count": null,
   "metadata": {},
   "outputs": [],
   "source": []
  }
 ],
 "metadata": {
  "kernelspec": {
   "display_name": "Python 3",
   "language": "python",
   "name": "python3"
  },
  "language_info": {
   "codemirror_mode": {
    "name": "ipython",
    "version": 3
   },
   "file_extension": ".py",
   "mimetype": "text/x-python",
   "name": "python",
   "nbconvert_exporter": "python",
   "pygments_lexer": "ipython3",
   "version": "3.7.2"
  },
  "toc": {
   "base_numbering": 1,
   "nav_menu": {},
   "number_sections": true,
   "sideBar": true,
   "skip_h1_title": false,
   "title_cell": "Table of Contents",
   "title_sidebar": "Contents",
   "toc_cell": true,
   "toc_position": {},
   "toc_section_display": true,
   "toc_window_display": true
  }
 },
 "nbformat": 4,
 "nbformat_minor": 2
}
