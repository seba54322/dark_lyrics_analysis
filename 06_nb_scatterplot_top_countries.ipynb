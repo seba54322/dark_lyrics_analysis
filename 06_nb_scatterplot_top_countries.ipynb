{
 "cells": [
  {
   "cell_type": "markdown",
   "metadata": {
    "toc": true
   },
   "source": [
    "<h1>Table of Contents<span class=\"tocSkip\"></span></h1>\n",
    "<div class=\"toc\"><ul class=\"toc-item\"><li><span><a href=\"#Introducción\" data-toc-modified-id=\"Introducción-1\"><span class=\"toc-item-num\">1&nbsp;&nbsp;</span>Introducción</a></span></li><li><span><a href=\"#Abrir-el-archivo\" data-toc-modified-id=\"Abrir-el-archivo-2\"><span class=\"toc-item-num\">2&nbsp;&nbsp;</span>Abrir el archivo</a></span></li><li><span><a href=\"#Abrir-cada-letra-en-una-lista-de-tokens-con-Spacy\" data-toc-modified-id=\"Abrir-cada-letra-en-una-lista-de-tokens-con-Spacy-3\"><span class=\"toc-item-num\">3&nbsp;&nbsp;</span>Abrir cada letra en una lista de tokens con Spacy</a></span></li><li><span><a href=\"#Top-5-países-por-cada-género\" data-toc-modified-id=\"Top-5-países-por-cada-género-4\"><span class=\"toc-item-num\">4&nbsp;&nbsp;</span>Top 5 países por cada género</a></span><ul class=\"toc-item\"><li><span><a href=\"#Datasets\" data-toc-modified-id=\"Datasets-4.1\"><span class=\"toc-item-num\">4.1&nbsp;&nbsp;</span>Datasets</a></span><ul class=\"toc-item\"><li><span><a href=\"#Resumen-de-letras-por-país\" data-toc-modified-id=\"Resumen-de-letras-por-país-4.1.1\"><span class=\"toc-item-num\">4.1.1&nbsp;&nbsp;</span>Resumen de letras por país</a></span></li><li><span><a href=\"#Power-metal:-Germany,-United-States,-Sweden,-Finland,-Italy\" data-toc-modified-id=\"Power-metal:-Germany,-United-States,-Sweden,-Finland,-Italy-4.1.2\"><span class=\"toc-item-num\">4.1.2&nbsp;&nbsp;</span>Power metal: Germany, United States, Sweden, Finland, Italy</a></span></li><li><span><a href=\"#Black-Metal:-Norway,-Sweden,-United-States,-Finland,-Germany\" data-toc-modified-id=\"Black-Metal:-Norway,-Sweden,-United-States,-Finland,-Germany-4.1.3\"><span class=\"toc-item-num\">4.1.3&nbsp;&nbsp;</span>Black Metal: Norway, Sweden, United States, Finland, Germany</a></span></li><li><span><a href=\"#Power-Metal-&amp;-Black-Metal,-top-5-países\" data-toc-modified-id=\"Power-Metal-&amp;-Black-Metal,-top-5-países-4.1.4\"><span class=\"toc-item-num\">4.1.4&nbsp;&nbsp;</span>Power Metal &amp; Black Metal, top 5 países</a></span></li><li><span><a href=\"#Construir-corpus\" data-toc-modified-id=\"Construir-corpus-4.1.5\"><span class=\"toc-item-num\">4.1.5&nbsp;&nbsp;</span>Construir corpus</a></span></li><li><span><a href=\"#Frequencies\" data-toc-modified-id=\"Frequencies-4.1.6\"><span class=\"toc-item-num\">4.1.6&nbsp;&nbsp;</span>Frequencies</a></span></li></ul></li><li><span><a href=\"#Log-Frequency-v/s-Scaled-F-Score\" data-toc-modified-id=\"Log-Frequency-v/s-Scaled-F-Score-4.2\"><span class=\"toc-item-num\">4.2&nbsp;&nbsp;</span>Log Frequency v/s Scaled F-Score</a></span><ul class=\"toc-item\"><li><span><a href=\"#Log-Freq-vs-Scaled-F-Score\" data-toc-modified-id=\"Log-Freq-vs-Scaled-F-Score-4.2.1\"><span class=\"toc-item-num\">4.2.1&nbsp;&nbsp;</span>Log Freq vs Scaled F-Score</a></span></li><li><span><a href=\"#Log-Frequency-v/s-Log-Odds-Ratio-w/-Uninformative-Prior-(alpha_w=0.01)\" data-toc-modified-id=\"Log-Frequency-v/s-Log-Odds-Ratio-w/-Uninformative-Prior-(alpha_w=0.01)-4.2.2\"><span class=\"toc-item-num\">4.2.2&nbsp;&nbsp;</span>Log Frequency v/s Log Odds Ratio w/ Uninformative Prior (alpha_w=0.01)</a></span></li><li><span><a href=\"#Corner-scores\" data-toc-modified-id=\"Corner-scores-4.2.3\"><span class=\"toc-item-num\">4.2.3&nbsp;&nbsp;</span>Corner scores</a></span></li></ul></li></ul></li></ul></div>"
   ]
  },
  {
   "cell_type": "markdown",
   "metadata": {},
   "source": [
    "# Introducción"
   ]
  },
  {
   "cell_type": "markdown",
   "metadata": {},
   "source": [
    "Este Notebook explora letras de Power Metal y Black Metal a lo largo de subconjuntos más específicos. \n",
    "\n",
    "Ordenando los primeros 5 países por cantidad de letras en el corpus, aparecen en diferente orden los mismos top 4 para ambos grupos (Estados Unidos, Alemania, Suecia y Finlandia) mientras que el lugar 5 cambia para el Black Metal (Noruega) con respecto al Power Metal (Italia)."
   ]
  },
  {
   "cell_type": "markdown",
   "metadata": {},
   "source": [
    "# Abrir el archivo"
   ]
  },
  {
   "cell_type": "code",
   "execution_count": 1,
   "metadata": {},
   "outputs": [],
   "source": [
    "import pandas as pd\n",
    "import en_core_web_sm\n",
    "nlp = en_core_web_sm.load()\n",
    "import time\n",
    "import scattertext as st\n",
    "from scattertext import produce_scattertext_explorer\n",
    "import numpy as np\n",
    "from pprint import pprint"
   ]
  },
  {
   "cell_type": "code",
   "execution_count": 2,
   "metadata": {},
   "outputs": [],
   "source": [
    "df_en_genre_country = pd.read_csv('./from_scratch/df_en_genre_country_24964lyrics.csv')"
   ]
  },
  {
   "cell_type": "markdown",
   "metadata": {},
   "source": [
    "# Abrir cada letra en una lista de tokens con Spacy"
   ]
  },
  {
   "cell_type": "code",
   "execution_count": 12,
   "metadata": {},
   "outputs": [],
   "source": [
    "df_en_genre_country[\"lyric_clean\"] = df_en_genre_country['lyric'].str.replace('[^\\w\\s]','')\n",
    "df_en_genre_country[\"lyric_clean\"] = df_en_genre_country['lyric'].str.replace('[_]','')\n",
    "df_en_genre_country[\"lyric_clean\"] = df_en_genre_country['lyric'].str.replace('[\\/]','')\n",
    "df_en_genre_country[\"lyric_clean\"] = df_en_genre_country['lyric'].str.replace('[\\__]','')"
   ]
  },
  {
   "cell_type": "code",
   "execution_count": 13,
   "metadata": {},
   "outputs": [
    {
     "name": "stdout",
     "output_type": "stream",
     "text": [
      "Time elapsed generating parsed lyrics\n",
      "00:20:08.34\n"
     ]
    }
   ],
   "source": [
    "start = time.time()\n",
    "df_en_genre_country['parsed'] = df_en_genre_country.lyric_clean.apply(nlp)\n",
    "end = time.time()\n",
    "hours, rem = divmod(end-start, 3600)\n",
    "minutes, seconds = divmod(rem, 60)\n",
    "print('Time elapsed generating parsed lyrics')\n",
    "print(\"{:0>2}:{:0>2}:{:05.2f}\".format(int(hours),int(minutes),seconds))"
   ]
  },
  {
   "cell_type": "markdown",
   "metadata": {},
   "source": [
    "Time elapsed generating parsed lyrics\n",
    "00:20:08.34"
   ]
  },
  {
   "cell_type": "markdown",
   "metadata": {},
   "source": [
    "# Top 5 países por cada género"
   ]
  },
  {
   "cell_type": "markdown",
   "metadata": {},
   "source": [
    "## Datasets"
   ]
  },
  {
   "cell_type": "markdown",
   "metadata": {},
   "source": [
    "### Resumen de letras por país"
   ]
  },
  {
   "cell_type": "markdown",
   "metadata": {},
   "source": [
    "Cantidad de letras Power Metal, por país, top 5\n",
    "\n",
    "Germany          3494\n",
    "United States    2406\n",
    "Sweden           1592\n",
    "Finland          1436\n",
    "Italy            1002\n",
    "\n",
    "Cantidad de letras Black Metal, por país, top 5\n",
    "\n",
    "Norway           2388\n",
    "Sweden           1517\n",
    "United States     999\n",
    "Finland           943\n",
    "Germany           755"
   ]
  },
  {
   "cell_type": "markdown",
   "metadata": {},
   "source": [
    "### Power metal: Germany, United States, Sweden, Finland, Italy"
   ]
  },
  {
   "cell_type": "code",
   "execution_count": 14,
   "metadata": {},
   "outputs": [],
   "source": [
    "power_metal_top_countries = ['Germany','United States','Sweden','Finland','Italy']"
   ]
  },
  {
   "cell_type": "code",
   "execution_count": 15,
   "metadata": {},
   "outputs": [],
   "source": [
    "df_en_power_top5 = df_en_genre_country.loc[df_en_genre_country['genre'] == 'Power Metal']\n",
    "df_en_power_top5 = df_en_power_top5[df_en_power_top5['country'].isin(power_metal_top_countries)]"
   ]
  },
  {
   "cell_type": "markdown",
   "metadata": {},
   "source": [
    "### Black Metal: Norway, Sweden, United States, Finland, Germany"
   ]
  },
  {
   "cell_type": "code",
   "execution_count": 16,
   "metadata": {},
   "outputs": [],
   "source": [
    "black_metal_top_countries = ['Norway','Sweden','United States','Finland','Germany']"
   ]
  },
  {
   "cell_type": "code",
   "execution_count": 17,
   "metadata": {},
   "outputs": [],
   "source": [
    "df_en_black_top5 = df_en_genre_country.loc[df_en_genre_country['genre'] == 'Black Metal']\n",
    "df_en_black_top5 = df_en_black_top5[df_en_black_top5['country'].isin(black_metal_top_countries)]"
   ]
  },
  {
   "cell_type": "markdown",
   "metadata": {},
   "source": [
    "### Power Metal & Black Metal, top 5 países"
   ]
  },
  {
   "cell_type": "code",
   "execution_count": 18,
   "metadata": {},
   "outputs": [],
   "source": [
    "power_black_country = pd.concat([df_en_power_top5,df_en_black_top5])"
   ]
  },
  {
   "cell_type": "markdown",
   "metadata": {},
   "source": [
    "### Construir corpus"
   ]
  },
  {
   "cell_type": "code",
   "execution_count": 19,
   "metadata": {},
   "outputs": [
    {
     "name": "stdout",
     "output_type": "stream",
     "text": [
      "Time elapsed generating corpus:\n",
      "00:00:29.86\n"
     ]
    }
   ],
   "source": [
    "start = time.time()\n",
    "\n",
    "corpus = st.CorpusFromParsedDocuments(\n",
    "    power_black_country, category_col='genre', parsed_col='parsed').build()\n",
    "\n",
    "end = time.time()\n",
    "hours, rem = divmod(end-start, 3600)\n",
    "minutes, seconds = divmod(rem, 60)\n",
    "print('Time elapsed generating corpus:')\n",
    "print(\"{:0>2}:{:0>2}:{:05.2f}\".format(int(hours),int(minutes),seconds))"
   ]
  },
  {
   "cell_type": "markdown",
   "metadata": {},
   "source": [
    "Time elapsed generating corpus:\n",
    "00:00:29.86"
   ]
  },
  {
   "cell_type": "markdown",
   "metadata": {},
   "source": [
    "### Frequencies"
   ]
  },
  {
   "cell_type": "code",
   "execution_count": 21,
   "metadata": {},
   "outputs": [
    {
     "name": "stdout",
     "output_type": "stream",
     "text": [
      "Top 10 Black Metal terms\n",
      "['of satan',\n",
      " 'satan',\n",
      " 'infernal',\n",
      " 'forth',\n",
      " 'existence',\n",
      " 'fucking',\n",
      " 'funeral',\n",
      " 'christ',\n",
      " 'thou',\n",
      " 'soil']\n",
      "Top 10 Power Metal terms\n",
      "['yeah',\n",
      " 'tell me',\n",
      " 'na',\n",
      " \"'cause\",\n",
      " 'gon',\n",
      " 'gon na',\n",
      " \"we 're\",\n",
      " \"they 're\",\n",
      " \"n't know\",\n",
      " 'rock']\n"
     ]
    }
   ],
   "source": [
    "term_freq_df = corpus.get_term_freq_df()\n",
    "term_freq_df['Power Metal Score'] = corpus.get_scaled_f_scores('Power Metal')\n",
    "term_freq_df['Black Metal Score'] = corpus.get_scaled_f_scores('Black Metal')\n",
    "print(\"Top 10 Black Metal terms\")\n",
    "pprint(list(term_freq_df.sort_values(by='Black Metal Score', ascending=False).index[:10]))\n",
    "print(\"Top 10 Power Metal terms\")\n",
    "pprint(list(term_freq_df.sort_values(by='Power Metal Score', ascending=False).index[:10]))"
   ]
  },
  {
   "cell_type": "markdown",
   "metadata": {},
   "source": [
    "## Log Frequency v/s Scaled F-Score"
   ]
  },
  {
   "cell_type": "markdown",
   "metadata": {},
   "source": [
    "### Log Freq vs Scaled F-Score"
   ]
  },
  {
   "cell_type": "code",
   "execution_count": 22,
   "metadata": {},
   "outputs": [],
   "source": [
    "def scale(ar): \n",
    "    return (ar - ar.min()) / (ar.max() - ar.min())\n",
    "\n",
    "def zero_centered_scale(ar):\n",
    "    scores = np.zeros(len(ar))\n",
    "    scores[ar > 0] = scale(ar[ar > 0])\n",
    "    scores[ar < 0] = -scale(-ar[ar < 0])\n",
    "    return (scores + 1) / 2.\n",
    "\n",
    "frequencies_scaled = scale(np.log(term_freq_df.sum(axis=1).values))"
   ]
  },
  {
   "cell_type": "code",
   "execution_count": 34,
   "metadata": {},
   "outputs": [
    {
     "name": "stdout",
     "output_type": "stream",
     "text": [
      "Time elapsed generating scattertext file:\n",
      "00:00:10.85\n"
     ]
    }
   ],
   "source": [
    "start = time.time()\n",
    "\n",
    "html = produce_scattertext_explorer(corpus,\n",
    "                                    category='Black Metal',\n",
    "                                    category_name='Black Metal',\n",
    "                                    not_category_name='Power Metal',\n",
    "                                    minimum_term_frequency=5,\n",
    "                                    width_in_pixels=800,\n",
    "                                    x_coords=frequencies_scaled,\n",
    "                                    y_coords=corpus.get_scaled_f_scores('Black Metal', beta=0.5),\n",
    "                                    scores=corpus.get_scaled_f_scores('Black Metal', beta=0.5),\n",
    "                                    sort_by_dist=False,\n",
    "                                    metadata=power_black_country['band_name'],\n",
    "                                    x_label='Log Frequency',\n",
    "                                    y_label='Scaled F-Score')\n",
    "file_name = './st_top_countries_power_black_01.html'\n",
    "open(file_name, 'wb').write(html.encode('utf-8'))\n",
    "\n",
    "end = time.time()\n",
    "hours, rem = divmod(end-start, 3600)\n",
    "minutes, seconds = divmod(rem, 60)\n",
    "print('Time elapsed generating scattertext file:')\n",
    "print(\"{:0>2}:{:0>2}:{:05.2f}\".format(int(hours),int(minutes),seconds))"
   ]
  },
  {
   "cell_type": "markdown",
   "metadata": {},
   "source": [
    "Time elapsed generating scattertext file:\n",
    "00:00:10.02"
   ]
  },
  {
   "cell_type": "markdown",
   "metadata": {},
   "source": [
    "### Log Frequency v/s Log Odds Ratio w/ Uninformative Prior (alpha_w=0.01)"
   ]
  },
  {
   "cell_type": "code",
   "execution_count": 26,
   "metadata": {},
   "outputs": [],
   "source": [
    "freq_df = corpus.get_term_freq_df().rename(columns={'Black Metal freq': 'y_bl', 'Power Metal freq': 'y_pw'})\n",
    "a_w = 0.01\n",
    "y_i, y_j = freq_df['y_bl'].values, freq_df['y_pw'].values"
   ]
  },
  {
   "cell_type": "code",
   "execution_count": 27,
   "metadata": {},
   "outputs": [],
   "source": [
    "n_i, n_j = y_i.sum(), y_j.sum()\n",
    "a_0 = len(freq_df) * a_w\n",
    "delta_i_j = (  np.log((y_i + a_w) / (n_i + a_0 - y_i - a_w))\n",
    "                 - np.log((y_j + a_w) / (n_j + a_0 - y_j - a_w)))\n",
    "var_delta_i_j = ( 1./(y_i + a_w) + 1./(y_i + a_0 - y_i - a_w)\n",
    "                    + 1./(y_j + a_w) + 1./(n_j + a_0 - n_j - a_w))\n",
    "zeta_i_j = delta_i_j/np.sqrt(var_delta_i_j)\n",
    "max_abs_zeta = max(zeta_i_j.max(), -zeta_i_j.min())\n",
    "zeta_scaled_for_charting = ((((zeta_i_j > 0).astype(float) * (zeta_i_j/max_abs_zeta))*0.5 + 0.5)\n",
    "                            + ((zeta_i_j < 0).astype(float) * (zeta_i_j/max_abs_zeta) * 0.5))"
   ]
  },
  {
   "cell_type": "code",
   "execution_count": 32,
   "metadata": {},
   "outputs": [
    {
     "name": "stdout",
     "output_type": "stream",
     "text": [
      "Time elapsed generating scattertext file:\n",
      "00:00:09.47\n"
     ]
    }
   ],
   "source": [
    "start = time.time()\n",
    "\n",
    "html = produce_scattertext_explorer(corpus,\n",
    "                                    category='Black Metal',\n",
    "                                    category_name='Black Metal',\n",
    "                                    not_category_name='Power Metal',\n",
    "                                    minimum_term_frequency=5,\n",
    "                                    width_in_pixels=800,\n",
    "                                    x_coords=frequencies_scaled,\n",
    "                                    y_coords=zeta_scaled_for_charting,\n",
    "                                    scores=zeta_i_j,\n",
    "                                    sort_by_dist=False,\n",
    "                                    metadata=power_black_country['band_name'],\n",
    "                                    x_label='Log Frequency',\n",
    "                                    y_label='Log Odds Ratio w/ Uninformative Prior (alpha_w=0.01)')\n",
    "file_name = './st_top_countries_power_black_02.html'\n",
    "open(file_name, 'wb').write(html.encode('utf-8'))\n",
    "\n",
    "end = time.time()\n",
    "hours, rem = divmod(end-start, 3600)\n",
    "minutes, seconds = divmod(rem, 60)\n",
    "print('Time elapsed generating scattertext file:')\n",
    "print(\"{:0>2}:{:0>2}:{:05.2f}\".format(int(hours),int(minutes),seconds))"
   ]
  },
  {
   "cell_type": "markdown",
   "metadata": {},
   "source": [
    "### Corner scores"
   ]
  },
  {
   "cell_type": "code",
   "execution_count": 33,
   "metadata": {},
   "outputs": [
    {
     "name": "stdout",
     "output_type": "stream",
     "text": [
      "Time elapsed generating scattertext file:\n",
      "00:00:11.07\n"
     ]
    }
   ],
   "source": [
    "start = time.time()\n",
    "\n",
    "corner_scores = corpus.get_corner_scores('Black Metal')\n",
    "html = produce_scattertext_explorer(corpus,\n",
    "                                    category='Black Metal',\n",
    "                                    category_name='Black Metal',\n",
    "                                    not_category_name='Power Metal',\n",
    "                                    minimum_term_frequency=5,\n",
    "                                    width_in_pixels=800,\n",
    "                                    x_coords=frequencies_scaled,\n",
    "                                    y_coords=corner_scores,\n",
    "                                    scores=corner_scores,\n",
    "                                    sort_by_dist=False,\n",
    "                                    metadata=power_black_country['band_name'],\n",
    "                                    x_label='Log Frequency',\n",
    "                                    y_label='Corner Scores')\n",
    "file_name = './st_top_countries_power_black_03.html'\n",
    "open(file_name, 'wb').write(html.encode('utf-8'))\n",
    "\n",
    "end = time.time()\n",
    "hours, rem = divmod(end-start, 3600)\n",
    "minutes, seconds = divmod(rem, 60)\n",
    "print('Time elapsed generating scattertext file:')\n",
    "print(\"{:0>2}:{:0>2}:{:05.2f}\".format(int(hours),int(minutes),seconds))"
   ]
  },
  {
   "cell_type": "code",
   "execution_count": null,
   "metadata": {},
   "outputs": [],
   "source": []
  }
 ],
 "metadata": {
  "kernelspec": {
   "display_name": "Python 3",
   "language": "python",
   "name": "python3"
  },
  "language_info": {
   "codemirror_mode": {
    "name": "ipython",
    "version": 3
   },
   "file_extension": ".py",
   "mimetype": "text/x-python",
   "name": "python",
   "nbconvert_exporter": "python",
   "pygments_lexer": "ipython3",
   "version": "3.7.2"
  },
  "toc": {
   "base_numbering": 1,
   "nav_menu": {},
   "number_sections": true,
   "sideBar": true,
   "skip_h1_title": false,
   "title_cell": "Table of Contents",
   "title_sidebar": "Contents",
   "toc_cell": true,
   "toc_position": {
    "height": "calc(100% - 180px)",
    "left": "10px",
    "top": "150px",
    "width": "217.797px"
   },
   "toc_section_display": true,
   "toc_window_display": true
  }
 },
 "nbformat": 4,
 "nbformat_minor": 2
}
